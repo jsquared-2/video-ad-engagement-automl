{
 "cells": [
  {
   "cell_type": "markdown",
   "metadata": {},
   "source": [
    "<h1 style=\"background-color: #f0f0f0; color: #000000; padding: 30px; border-radius: 15px; text-align: center; font-family: 'JetBrains Mono', sans-serif; font-size: 2rem;\">\n",
    "    Video Ad Engagement Vertex AI AutoML\n",
    "</h1>"
   ]
  },
  {
   "cell_type": "markdown",
   "metadata": {
    "jp-MarkdownHeadingCollapsed": true
   },
   "source": [
    "<div style=\"background-color: #f0f0f0; box-shadow: 10px 5px; padding: 20px; border-radius: 15px; margin: auto; width: 100vw\">\n",
    "    <p style=\"font-family: 'JetBrains Mono', sans-serif; font-size: 1.2rem; color: #000000\">\n",
    "        <b>About This Notebook:</b>\n",
    "    </p>\n",
    "    <p style=\"font-family: 'JetBrains Mono', sans-serif; font-size: 1rem; color: #333333;\">\n",
    "        This notebook focuses on using Google Cloud Platform's (GCP) Vertex AI to train a model using the AutoML feature. Then, after the model is created, it can later be exported to non-cloud machines for predictions. The data source for this notebook is <a href=\"https://www.kaggle.com/datasets/karnikakapoor/video-ads-engagement-dataset?select=ad_df.csv\" target=\"_blank\">Video Ad Engagement Dataset</a> on Kaggle.\n",
    "    </p>\n",
    "</div>"
   ]
  },
  {
   "cell_type": "markdown",
   "metadata": {},
   "source": [
    "<div style=\"background-color: #f0f0f0; box-shadow: 10px 5px; padding: 20px; border-radius: 15px; margin: auto; width: 100vw\">\n",
    "    <p style=\"font-family: 'JetBrains Mono', sans-serif; font-size: 1.2rem; color: #000000\">\n",
    "        <b>Environment Setup:</b>\n",
    "    </p>\n",
    "    <p style=\"font-family: 'JetBrains Mono', sans-serif; font-size: 1rem; color: #333333;\">\n",
    "        This notebook is intended to be run within a notebook instance within GCP. As such, the <code>Managing Dependencies</code> cell can only be executed within that environment, as it has a multitude of dependencies that are already handled by GCP.\n",
    "    </p>\n",
    "    <p style=\"font-family: 'JetBrains Mono', sans-serif; font-size: 1rem; color: #333333;\">\n",
    "        Additionally, the constants in the <code>Setting Up Environment</code> can be adjusted where necessary to match values in your project.\n",
    "    </p>\n",
    "</div>"
   ]
  },
  {
   "cell_type": "code",
   "execution_count": null,
   "metadata": {},
   "outputs": [],
   "source": [
    "### Managing Dependencies\n",
    "## Installing/Upgrading Libraries\n",
    "# GCP SDK\n",
    "! pip3 install --upgrade google-cloud-aiplatform"
   ]
  },
  {
   "cell_type": "code",
   "execution_count": null,
   "metadata": {},
   "outputs": [],
   "source": [
    "### Imports\n",
    "## External Packages\n",
    "from google.cloud import aiplatform"
   ]
  },
  {
   "cell_type": "code",
   "execution_count": 1,
   "metadata": {},
   "outputs": [],
   "source": [
    "### Setting Up Environment\n",
    "## Variables\n",
    "# Project\n",
    "PROJECT_ID = \"video-ad-automl\"\n",
    "\n",
    "# Data\n",
    "DATASET_NAME = \"video_ad_engagement\"\n",
    "TABLE_NAME = \"ad_engagement\"\n",
    "BIGQUERY_URI = f\"bq://{PROJECT_ID}.{DATASET_NAME}.{TABLE_NAME}\"\n",
    "\n",
    "# Model\n",
    "MODEL_VERSION = 1\n",
    "TRAINING_TIME = 1000\n",
    "TRANSFORMATIONS = [\n",
    "    {\"auto\": {\"column_name\": \"auction_id\"}},\n",
    "    {\"auto\": {\"column_name\": \"timestamp\"}},\n",
    "    {\"auto\": {\"column_name\": \"creative_duration\"}},\n",
    "    {\"auto\": {\"column_name\": \"creative_id\"}},\n",
    "    {\"auto\": {\"column_name\": \"campaign_id\"}},\n",
    "    {\"auto\": {\"column_name\": \"advertiser_id\"}},\n",
    "    {\"auto\": {\"column_name\": \"placement_id\"}},\n",
    "    {\"auto\": {\"column_name\": \"placement_language\"}},\n",
    "    {\"auto\": {\"column_name\": \"website_id\"}},\n",
    "    {\"auto\": {\"column_name\": \"referer_deep_three\"}},\n",
    "    {\"auto\": {\"column_name\": \"ua_country\"}},\n",
    "    {\"auto\": {\"column_name\": \"ua_os\"}},\n",
    "    {\"auto\": {\"column_name\": \"ua_browser\"}},\n",
    "    {\"auto\": {\"column_name\": \"ua_browser_version\"}},\n",
    "    {\"auto\": {\"column_name\": \"ua_device\"}},\n",
    "    {\"auto\": {\"column_name\": \"user_average_seconds_played\"}}\n",
    "]\n",
    "TARGET = \"seconds_played\""
   ]
  },
  {
   "cell_type": "markdown",
   "metadata": {},
   "source": [
    "<div style=\"background-color: #f0f0f0; box-shadow: 10px 5px; padding: 20px; border-radius: 15px; margin: auto; width: 100vw\">\n",
    "    <p style=\"font-family: 'JetBrains Mono', sans-serif; font-size: 1.2rem; color: #000000\">\n",
    "        <b>Data Preparation:</b>\n",
    "    </p>\n",
    "    <p style=\"font-family: 'JetBrains Mono', sans-serif; font-size: 1rem; color: #333333;\">\n",
    "        This section creates a dataset accessible to the Vertex AI API, from data stored in BigQuery.\n",
    "    </p>\n",
    "</div>"
   ]
  },
  {
   "cell_type": "code",
   "execution_count": null,
   "metadata": {},
   "outputs": [],
   "source": [
    "### Data Preparations\n",
    "## Creating Managed Dataset\n",
    "# Ad Engagement Data\n",
    "dataset = aiplatform.TabularDataset.create(\n",
    "    display_name = TABLE_NAME,\n",
    "    bq_source = [BIGQUERY_URI]\n",
    ")"
   ]
  },
  {
   "cell_type": "markdown",
   "metadata": {},
   "source": [
    "<div style=\"background-color: #f0f0f0; box-shadow: 10px 5px; padding: 20px; border-radius: 15px; margin: auto; width: 100vw\">\n",
    "    <p style=\"font-family: 'JetBrains Mono', sans-serif; font-size: 1.2rem; color: #000000\">\n",
    "        <b>Model Training:</b>\n",
    "    </p>\n",
    "    <p style=\"font-family: 'JetBrains Mono', sans-serif; font-size: 1rem; color: #333333;\">\n",
    "        This section creates a training job that will produce a model.\n",
    "    </p>\n",
    "</div>"
   ]
  },
  {
   "cell_type": "code",
   "execution_count": null,
   "metadata": {},
   "outputs": [],
   "source": [
    "### Machine Learning\n",
    "## Training\n",
    "# Defining Training Job\n",
    "job = aiplatform.AutoMLTabularTrainingJob(\n",
    "    display_name = f\"video_ad_engagement_training_v{MODEL_VERSION}\",\n",
    "    optimization_prediction_type = \"regression\",\n",
    "    column_transformations = TRANSFORMATIONS,\n",
    "    optimization_objective = \"minimize-mae\"\n",
    ")\n",
    "\n",
    "# Running Training Job\n",
    "job.run(\n",
    "    dataset = dataset,\n",
    "    target_column = TARGET,\n",
    "    budget_milli_node_hours = TRAINING_TIME,\n",
    "    model_display_name = f\"video_ad_engagement_model_v{MODEL_VERSION}\",\n",
    "    disable_early_stopping = False\n",
    ")"
   ]
  }
 ],
 "metadata": {
  "kernelspec": {
   "display_name": "Python 3 (ipykernel)",
   "language": "python",
   "name": "python3"
  },
  "language_info": {
   "codemirror_mode": {
    "name": "ipython",
    "version": 3
   },
   "file_extension": ".py",
   "mimetype": "text/x-python",
   "name": "python",
   "nbconvert_exporter": "python",
   "pygments_lexer": "ipython3",
   "version": "3.11.1"
  }
 },
 "nbformat": 4,
 "nbformat_minor": 4
}
